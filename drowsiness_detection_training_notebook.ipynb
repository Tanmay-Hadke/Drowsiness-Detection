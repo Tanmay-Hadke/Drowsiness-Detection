{
  "cells": [
    {
      "cell_type": "code",
      "execution_count": null,
      "metadata": {
        "execution": {
          "iopub.execute_input": "2022-10-31T14:21:22.960284Z",
          "iopub.status.busy": "2022-10-31T14:21:22.959502Z",
          "iopub.status.idle": "2022-10-31T14:21:33.120129Z",
          "shell.execute_reply": "2022-10-31T14:21:33.121208Z",
          "shell.execute_reply.started": "2022-10-31T13:25:34.534047Z"
        },
        "papermill": {
          "duration": 10.185314,
          "end_time": "2022-10-31T14:21:33.121616",
          "exception": false,
          "start_time": "2022-10-31T14:21:22.936302",
          "status": "completed"
        },
        "tags": [],
        "id": "aZZVkxaU40rc"
      },
      "outputs": [],
      "source": [
        "import matplotlib.pyplot as plt\n",
        "import numpy as np\n",
        "import PIL\n",
        "import tensorflow as tf\n",
        "from tensorflow.keras.layers import Dense, GlobalAveragePooling2D, Dropout, Flatten, Conv2D, MaxPooling2D\n",
        "from tensorflow.keras.models import Sequential\n",
        "from tensorflow.keras.optimizers import Adam"
      ]
    },
    {
      "cell_type": "code",
      "source": [
        "!kaggle datasets download imadeddinedjerarda/mrl-eye-dataset"
      ],
      "metadata": {
        "colab": {
          "base_uri": "https://localhost:8080/"
        },
        "id": "rML-uTX55C0-",
        "outputId": "4e4bee63-41f0-4ff9-9f66-b2a3aa92fbe3"
      },
      "execution_count": null,
      "outputs": [
        {
          "output_type": "stream",
          "name": "stdout",
          "text": [
            "Dataset URL: https://www.kaggle.com/datasets/imadeddinedjerarda/mrl-eye-dataset\n",
            "License(s): unknown\n",
            "Downloading mrl-eye-dataset.zip to /content\n",
            "100% 329M/330M [00:01<00:00, 227MB/s]\n",
            "100% 330M/330M [00:01<00:00, 185MB/s]\n"
          ]
        }
      ]
    },
    {
      "cell_type": "code",
      "source": [
        "!unzip mrl-eye-dataset.zip"
      ],
      "metadata": {
        "id": "ATTny0mO5OI5"
      },
      "execution_count": null,
      "outputs": []
    },
    {
      "cell_type": "code",
      "execution_count": null,
      "metadata": {
        "execution": {
          "iopub.execute_input": "2022-10-31T14:21:33.183497Z",
          "iopub.status.busy": "2022-10-31T14:21:33.182547Z",
          "iopub.status.idle": "2022-10-31T14:22:23.498606Z",
          "shell.execute_reply": "2022-10-31T14:22:23.497763Z",
          "shell.execute_reply.started": "2022-10-31T13:25:36.294697Z"
        },
        "papermill": {
          "duration": 50.349967,
          "end_time": "2022-10-31T14:22:23.498779",
          "exception": false,
          "start_time": "2022-10-31T14:21:33.148812",
          "status": "completed"
        },
        "scrolled": true,
        "tags": [],
        "colab": {
          "base_uri": "https://localhost:8080/"
        },
        "id": "awQmK_1340re",
        "outputId": "acab92f9-92d9-497a-f712-f67444691922"
      },
      "outputs": [
        {
          "output_type": "stream",
          "name": "stdout",
          "text": [
            "Found 67919 images belonging to 2 classes.\n",
            "Found 16979 images belonging to 2 classes.\n"
          ]
        }
      ],
      "source": [
        "from tensorflow.keras.preprocessing.image import ImageDataGenerator\n",
        "data_dir = \"/content/mrleyedataset\"\n",
        "train_datagen = ImageDataGenerator(validation_split=0.2) # don't use rescale = 1./255\n",
        "\n",
        "train_generator = train_datagen.flow_from_directory( data_dir,\n",
        "                                                     target_size=(32,32),\n",
        "                                                     batch_size=32,\n",
        "                                                     shuffle=True,\n",
        "                                                     class_mode='categorical',\n",
        "                                                     subset='training')\n",
        "\n",
        "validation_datagen = ImageDataGenerator(validation_split=0.2)\n",
        "\n",
        "validation_generator =  validation_datagen.flow_from_directory( data_dir,\n",
        "                                                                target_size=(32,32),\n",
        "                                                                batch_size=32,\n",
        "                                                                class_mode='categorical',\n",
        "                                                                subset='validation')"
      ]
    },
    {
      "cell_type": "code",
      "execution_count": null,
      "metadata": {
        "execution": {
          "iopub.execute_input": "2022-10-31T14:22:23.539643Z",
          "iopub.status.busy": "2022-10-31T14:22:23.539080Z",
          "iopub.status.idle": "2022-10-31T14:22:28.836156Z",
          "shell.execute_reply": "2022-10-31T14:22:28.835538Z",
          "shell.execute_reply.started": "2022-10-31T13:33:47.487962Z"
        },
        "papermill": {
          "duration": 5.320056,
          "end_time": "2022-10-31T14:22:28.836302",
          "exception": false,
          "start_time": "2022-10-31T14:22:23.516246",
          "status": "completed"
        },
        "tags": [],
        "id": "p55Q59JD40rf"
      },
      "outputs": [],
      "source": [
        "cnn_model = Sequential([\n",
        "    Conv2D(32, kernel_size=(3, 3), activation='relu', input_shape=(32,32,3)),\n",
        "    MaxPooling2D(pool_size=(1,1)),\n",
        "    Conv2D(32,(3,3),activation='relu'),\n",
        "    MaxPooling2D(pool_size=(1,1)),\n",
        "#32 convolution filters used each of size 3x3\n",
        "#again\n",
        "    Conv2D(64, (3, 3), activation='relu'),\n",
        "    MaxPooling2D(pool_size=(1,1)),\n",
        "\n",
        "#64 convolution filters used each of size 3x3\n",
        "#choose the best features via pooling\n",
        "\n",
        "#randomly turn neurons on and off to improve convergence\n",
        "    Dropout(0.25),\n",
        "#flatten since too many dimensions, we only want a classification output\n",
        "    Flatten(),\n",
        "#fully connected to get all relevant data\n",
        "    Dense(128, activation='relu'),\n",
        "#one more dropout for convergence' sake :)\n",
        "#    Dropout(0.5),\n",
        "#output a softmax to squash the matrix into output probabilities\n",
        "    Dense(2, activation='softmax')\n",
        "])"
      ]
    },
    {
      "cell_type": "code",
      "execution_count": null,
      "metadata": {
        "execution": {
          "iopub.execute_input": "2022-11-01T15:10:16.914055Z",
          "iopub.status.busy": "2022-11-01T15:10:16.913594Z",
          "iopub.status.idle": "2022-11-01T15:10:16.942802Z",
          "shell.execute_reply": "2022-11-01T15:10:16.942007Z",
          "shell.execute_reply.started": "2022-11-01T15:10:16.914014Z"
        },
        "id": "nQhNnKT140rg"
      },
      "outputs": [],
      "source": [
        "cnn_model.compile(optimizer='adam',loss='categorical_crossentropy',metrics=[tf.keras.metrics.CategoricalAccuracy(),tf.keras.metrics.Precision(), tf.keras.metrics.Recall()])"
      ]
    },
    {
      "cell_type": "code",
      "execution_count": null,
      "metadata": {
        "execution": {
          "iopub.execute_input": "2022-11-01T15:10:31.631652Z",
          "iopub.status.busy": "2022-11-01T15:10:31.631265Z",
          "iopub.status.idle": "2022-11-01T15:10:31.638934Z",
          "shell.execute_reply": "2022-11-01T15:10:31.637755Z",
          "shell.execute_reply.started": "2022-11-01T15:10:31.631617Z"
        },
        "scrolled": true,
        "colab": {
          "base_uri": "https://localhost:8080/"
        },
        "id": "niOmwrHQ40rg",
        "outputId": "8556a2a2-97d0-4e79-c958-98bf3358e53f"
      },
      "outputs": [
        {
          "output_type": "stream",
          "name": "stdout",
          "text": [
            "Model: \"sequential\"\n",
            "_________________________________________________________________\n",
            " Layer (type)                Output Shape              Param #   \n",
            "=================================================================\n",
            " conv2d (Conv2D)             (None, 30, 30, 32)        896       \n",
            "                                                                 \n",
            " max_pooling2d (MaxPooling2  (None, 30, 30, 32)        0         \n",
            " D)                                                              \n",
            "                                                                 \n",
            " conv2d_1 (Conv2D)           (None, 28, 28, 32)        9248      \n",
            "                                                                 \n",
            " max_pooling2d_1 (MaxPoolin  (None, 28, 28, 32)        0         \n",
            " g2D)                                                            \n",
            "                                                                 \n",
            " conv2d_2 (Conv2D)           (None, 26, 26, 64)        18496     \n",
            "                                                                 \n",
            " max_pooling2d_2 (MaxPoolin  (None, 26, 26, 64)        0         \n",
            " g2D)                                                            \n",
            "                                                                 \n",
            " dropout (Dropout)           (None, 26, 26, 64)        0         \n",
            "                                                                 \n",
            " flatten (Flatten)           (None, 43264)             0         \n",
            "                                                                 \n",
            " dense (Dense)               (None, 128)               5537920   \n",
            "                                                                 \n",
            " dense_1 (Dense)             (None, 2)                 258       \n",
            "                                                                 \n",
            "=================================================================\n",
            "Total params: 5566818 (21.24 MB)\n",
            "Trainable params: 5566818 (21.24 MB)\n",
            "Non-trainable params: 0 (0.00 Byte)\n",
            "_________________________________________________________________\n"
          ]
        }
      ],
      "source": [
        "cnn_model.summary()"
      ]
    },
    {
      "cell_type": "code",
      "execution_count": null,
      "metadata": {
        "execution": {
          "iopub.execute_input": "2022-11-01T15:10:39.801931Z",
          "iopub.status.busy": "2022-11-01T15:10:39.801560Z",
          "iopub.status.idle": "2022-11-01T15:28:31.407354Z",
          "shell.execute_reply": "2022-11-01T15:28:31.406293Z",
          "shell.execute_reply.started": "2022-11-01T15:10:39.801899Z"
        },
        "colab": {
          "base_uri": "https://localhost:8080/"
        },
        "id": "vxTrSAbJ40rh",
        "outputId": "60276bfe-519f-4606-d35f-63c28191288a"
      },
      "outputs": [
        {
          "output_type": "stream",
          "name": "stdout",
          "text": [
            "Epoch 1/10\n",
            "2123/2123 [==============================] - 84s 39ms/step - loss: 0.9273 - categorical_accuracy: 0.9246 - precision: 0.9246 - recall: 0.9246 - val_loss: 0.3682 - val_categorical_accuracy: 0.8667 - val_precision: 0.8667 - val_recall: 0.8667\n",
            "Epoch 2/10\n",
            "2123/2123 [==============================] - 78s 37ms/step - loss: 0.1107 - categorical_accuracy: 0.9617 - precision: 0.9617 - recall: 0.9617 - val_loss: 0.3011 - val_categorical_accuracy: 0.8783 - val_precision: 0.8783 - val_recall: 0.8783\n",
            "Epoch 3/10\n",
            "2123/2123 [==============================] - 78s 37ms/step - loss: 0.0772 - categorical_accuracy: 0.9736 - precision: 0.9736 - recall: 0.9736 - val_loss: 0.3116 - val_categorical_accuracy: 0.8782 - val_precision: 0.8782 - val_recall: 0.8782\n",
            "Epoch 4/10\n",
            "2123/2123 [==============================] - 77s 36ms/step - loss: 0.0629 - categorical_accuracy: 0.9785 - precision: 0.9785 - recall: 0.9785 - val_loss: 0.2478 - val_categorical_accuracy: 0.9021 - val_precision: 0.9021 - val_recall: 0.9021\n",
            "Epoch 5/10\n",
            "2123/2123 [==============================] - 79s 37ms/step - loss: 0.0689 - categorical_accuracy: 0.9779 - precision: 0.9779 - recall: 0.9779 - val_loss: 0.2805 - val_categorical_accuracy: 0.8916 - val_precision: 0.8916 - val_recall: 0.8916\n",
            "Epoch 6/10\n",
            "2123/2123 [==============================] - 78s 37ms/step - loss: 0.0420 - categorical_accuracy: 0.9859 - precision: 0.9859 - recall: 0.9859 - val_loss: 0.2976 - val_categorical_accuracy: 0.8984 - val_precision: 0.8984 - val_recall: 0.8984\n",
            "Epoch 7/10\n",
            "2123/2123 [==============================] - 77s 36ms/step - loss: 0.0399 - categorical_accuracy: 0.9867 - precision: 0.9867 - recall: 0.9867 - val_loss: 0.2773 - val_categorical_accuracy: 0.9179 - val_precision: 0.9179 - val_recall: 0.9179\n",
            "Epoch 8/10\n",
            "2123/2123 [==============================] - 77s 36ms/step - loss: 0.0355 - categorical_accuracy: 0.9879 - precision: 0.9879 - recall: 0.9879 - val_loss: 0.3200 - val_categorical_accuracy: 0.9144 - val_precision: 0.9144 - val_recall: 0.9144\n",
            "Epoch 9/10\n",
            "2123/2123 [==============================] - 75s 35ms/step - loss: 0.0315 - categorical_accuracy: 0.9899 - precision: 0.9899 - recall: 0.9899 - val_loss: 0.3788 - val_categorical_accuracy: 0.9138 - val_precision: 0.9138 - val_recall: 0.9138\n",
            "Epoch 10/10\n",
            "2123/2123 [==============================] - 76s 36ms/step - loss: 0.0248 - categorical_accuracy: 0.9916 - precision: 0.9916 - recall: 0.9916 - val_loss: 0.3167 - val_categorical_accuracy: 0.9216 - val_precision: 0.9216 - val_recall: 0.9216\n"
          ]
        }
      ],
      "source": [
        "history = cnn_model.fit(train_generator, validation_data=validation_generator, epochs=10)"
      ]
    },
    {
      "cell_type": "code",
      "execution_count": null,
      "metadata": {
        "execution": {
          "iopub.execute_input": "2022-11-01T15:32:41.945494Z",
          "iopub.status.busy": "2022-11-01T15:32:41.945133Z",
          "iopub.status.idle": "2022-11-01T15:32:42.174247Z",
          "shell.execute_reply": "2022-11-01T15:32:42.173329Z",
          "shell.execute_reply.started": "2022-11-01T15:32:41.945460Z"
        },
        "colab": {
          "base_uri": "https://localhost:8080/",
          "height": 472
        },
        "id": "kGkMdgeZ40ri",
        "outputId": "1216c6fb-5006-482c-8ad4-89de248af26d"
      },
      "outputs": [
        {
          "output_type": "display_data",
          "data": {
            "text/plain": [
              "<Figure size 640x480 with 1 Axes>"
            ],
            "image/png": "[encoded data removed]"
          },
          "metadata": {}
        }
      ],
      "source": [
        "fig1 = plt.gcf()\n",
        "plt.plot(history.history['categorical_accuracy'])\n",
        "plt.plot(history.history['val_categorical_accuracy'])\n",
        "plt.axis(ymin=0.4,ymax=1)\n",
        "plt.grid()\n",
        "plt.title('Model Accuracy')\n",
        "plt.ylabel('Accuracy')\n",
        "plt.xlabel('Epochs')\n",
        "plt.legend(['train', 'validation'])\n",
        "plt.show()"
      ]
    },
    {
      "cell_type": "code",
      "execution_count": null,
      "metadata": {
        "execution": {
          "iopub.status.busy": "2022-10-31T17:27:53.255065Z",
          "iopub.status.idle": "2022-10-31T17:27:53.255690Z"
        },
        "id": "8VTldVlg40ri"
      },
      "outputs": [],
      "source": [
        "import cv2\n",
        "img_height, img_width = 32,32\n",
        "image=cv2.imread(\"/content/mrleyedataset/Close-Eyes/s0001_00001_0_0_0_0_0_01.png\")\n",
        "image_resized= cv2.resize(image, (img_height,img_width))\n",
        "image=np.expand_dims(image_resized,axis=0)"
      ]
    },
    {
      "cell_type": "code",
      "execution_count": null,
      "metadata": {
        "execution": {
          "iopub.execute_input": "2022-11-01T15:39:18.310880Z",
          "iopub.status.busy": "2022-11-01T15:39:18.310521Z",
          "iopub.status.idle": "2022-11-01T15:39:18.459758Z",
          "shell.execute_reply": "2022-11-01T15:39:18.458822Z",
          "shell.execute_reply.started": "2022-11-01T15:39:18.310846Z"
        },
        "colab": {
          "base_uri": "https://localhost:8080/"
        },
        "id": "uFcMN0WT40rj",
        "outputId": "a71d89ce-2c6b-4cb6-9b36-1868f5cd00f1"
      },
      "outputs": [
        {
          "output_type": "stream",
          "name": "stdout",
          "text": [
            "(86, 86, 3)\n",
            "(86, 86, 3)\n",
            "(32, 32, 3)\n",
            "(1, 32, 32, 3)\n",
            "1/1 [==============================] - 0s 108ms/step\n"
          ]
        }
      ],
      "source": [
        "import cv2\n",
        "img_height, img_width = 32,32\n",
        "image=cv2.imread(\"/content/mrleyedataset/Close-Eyes/s0001_00001_0_0_0_0_0_01.png\")\n",
        "print(image.shape)\n",
        "r_eye = cv2.cvtColor(image,cv2.COLOR_BGR2RGB)\n",
        "print(r_eye.shape)\n",
        "r_eye = cv2.resize(r_eye, (img_height,img_width))\n",
        "print(r_eye.shape)\n",
        "#r_eye= r_eye/255\n",
        "r_eye=  r_eye.reshape((-1, 32, 32, 3))\n",
        "print(r_eye.shape)\n",
        "#r_eye = np.expand_dims(r_eye,axis=0)\n",
        "pred=cnn_model.predict(r_eye)"
      ]
    },
    {
      "cell_type": "code",
      "execution_count": null,
      "metadata": {
        "execution": {
          "iopub.execute_input": "2022-11-01T15:39:41.152099Z",
          "iopub.status.busy": "2022-11-01T15:39:41.151656Z",
          "iopub.status.idle": "2022-11-01T15:39:41.163979Z",
          "shell.execute_reply": "2022-11-01T15:39:41.162957Z",
          "shell.execute_reply.started": "2022-11-01T15:39:41.152050Z"
        },
        "colab": {
          "base_uri": "https://localhost:8080/"
        },
        "id": "IEqqNhyD40rj",
        "outputId": "ccf73cb2-03a4-4a29-c2bd-82280a2a779c"
      },
      "outputs": [
        {
          "output_type": "execute_result",
          "data": {
            "text/plain": [
              "0"
            ]
          },
          "metadata": {},
          "execution_count": 13
        }
      ],
      "source": [
        "np.argmax(pred)"
      ]
    },
    {
      "cell_type": "code",
      "execution_count": null,
      "metadata": {
        "execution": {
          "iopub.execute_input": "2022-10-31T14:39:22.034271Z",
          "iopub.status.busy": "2022-10-31T14:39:22.033670Z",
          "iopub.status.idle": "2022-10-31T14:39:22.427469Z",
          "shell.execute_reply": "2022-10-31T14:39:22.426993Z"
        },
        "papermill": {
          "duration": 2.888266,
          "end_time": "2022-10-31T14:39:22.427613",
          "exception": false,
          "start_time": "2022-10-31T14:39:19.539347",
          "status": "completed"
        },
        "tags": [],
        "id": "htYitZej40rk"
      },
      "outputs": [],
      "source": [
        "import cv2\n",
        "img_height, img_width = 32,32\n",
        "image=cv2.imread(\"/content/mrleyedataset/Close-Eyes/s0001_00001_0_0_0_0_0_01.png\")\n",
        "image_resized= cv2.resize(image, (img_height,img_width))\n",
        "image=np.expand_dims(image_resized,axis=0)"
      ]
    },
    {
      "cell_type": "code",
      "execution_count": null,
      "metadata": {
        "execution": {
          "iopub.execute_input": "2022-10-31T14:39:27.003351Z",
          "iopub.status.busy": "2022-10-31T14:39:27.002500Z",
          "iopub.status.idle": "2022-10-31T14:39:27.176533Z",
          "shell.execute_reply": "2022-10-31T14:39:27.176002Z"
        },
        "papermill": {
          "duration": 2.435033,
          "end_time": "2022-10-31T14:39:27.176668",
          "exception": false,
          "start_time": "2022-10-31T14:39:24.741635",
          "status": "completed"
        },
        "tags": [],
        "colab": {
          "base_uri": "https://localhost:8080/"
        },
        "id": "wtF4Boj340rk",
        "outputId": "39387885-ce57-42b9-f807-1ddf9893a799"
      },
      "outputs": [
        {
          "output_type": "stream",
          "name": "stdout",
          "text": [
            "1/1 [==============================] - 0s 28ms/step\n"
          ]
        }
      ],
      "source": [
        "pred=cnn_model.predict(image)"
      ]
    },
    {
      "cell_type": "code",
      "execution_count": null,
      "metadata": {
        "execution": {
          "iopub.execute_input": "2022-10-31T14:39:32.042624Z",
          "iopub.status.busy": "2022-10-31T14:39:32.041872Z",
          "iopub.status.idle": "2022-10-31T14:39:32.046377Z",
          "shell.execute_reply": "2022-10-31T14:39:32.045719Z"
        },
        "papermill": {
          "duration": 2.551144,
          "end_time": "2022-10-31T14:39:32.046540",
          "exception": false,
          "start_time": "2022-10-31T14:39:29.495396",
          "status": "completed"
        },
        "tags": [],
        "colab": {
          "base_uri": "https://localhost:8080/"
        },
        "id": "KZYob3fE40rk",
        "outputId": "22b1e988-642a-4d00-d6eb-8bce754a90f1"
      },
      "outputs": [
        {
          "output_type": "stream",
          "name": "stdout",
          "text": [
            "The predicted class is 0\n"
          ]
        }
      ],
      "source": [
        "output_class=np.argmax(pred)\n",
        "print(\"The predicted class is\", output_class)\n",
        "# 0 is close 1 is open"
      ]
    },
    {
      "cell_type": "code",
      "execution_count": null,
      "metadata": {
        "execution": {
          "iopub.execute_input": "2022-10-31T14:39:37.296120Z",
          "iopub.status.busy": "2022-10-31T14:39:37.295240Z",
          "iopub.status.idle": "2022-10-31T14:39:37.421919Z",
          "shell.execute_reply": "2022-10-31T14:39:37.422845Z"
        },
        "papermill": {
          "duration": 3.064911,
          "end_time": "2022-10-31T14:39:37.423029",
          "exception": false,
          "start_time": "2022-10-31T14:39:34.358118",
          "status": "completed"
        },
        "tags": [],
        "colab": {
          "base_uri": "https://localhost:8080/"
        },
        "id": "D4gqkXGx40rl",
        "outputId": "1a5cf9bc-b1e9-45e6-e8df-9bec335c5d22"
      },
      "outputs": [
        {
          "output_type": "stream",
          "name": "stderr",
          "text": [
            "/usr/local/lib/python3.10/dist-packages/keras/src/engine/training.py:3103: UserWarning: You are saving your model as an HDF5 file via `model.save()`. This file format is considered legacy. We recommend using instead the native Keras format, e.g. `model.save('my_model.keras')`.\n",
            "  saving_api.save_model(\n"
          ]
        }
      ],
      "source": [
        "cnn_model.save(\"./cnn.h5\")"
      ]
    },
    {
      "cell_type": "code",
      "execution_count": null,
      "metadata": {
        "execution": {
          "iopub.execute_input": "2022-10-31T14:39:42.318049Z",
          "iopub.status.busy": "2022-10-31T14:39:42.317441Z",
          "iopub.status.idle": "2022-10-31T14:39:42.675745Z",
          "shell.execute_reply": "2022-10-31T14:39:42.676218Z"
        },
        "papermill": {
          "duration": 2.908263,
          "end_time": "2022-10-31T14:39:42.676383",
          "exception": false,
          "start_time": "2022-10-31T14:39:39.768120",
          "status": "completed"
        },
        "tags": [],
        "colab": {
          "base_uri": "https://localhost:8080/"
        },
        "id": "5xz-vqPK40rl",
        "outputId": "fce14fbf-561d-4fad-a5b0-816fa193af89"
      },
      "outputs": [
        {
          "output_type": "stream",
          "name": "stdout",
          "text": [
            "1/1 [==============================] - 0s 81ms/step\n",
            "[0]\n"
          ]
        }
      ],
      "source": [
        "from keras.models import load_model\n",
        "test_model = load_model('./cnn.h5')\n",
        "pred = np.argmax(test_model.predict(image), axis=-1)\n",
        "print(pred)"
      ]
    },
    {
      "cell_type": "code",
      "execution_count": null,
      "metadata": {
        "execution": {
          "iopub.execute_input": "2022-10-31T14:39:47.239409Z",
          "iopub.status.busy": "2022-10-31T14:39:47.238529Z",
          "iopub.status.idle": "2022-10-31T14:39:49.667439Z",
          "shell.execute_reply": "2022-10-31T14:39:49.666602Z",
          "shell.execute_reply.started": "2022-10-31T13:45:01.699003Z"
        },
        "papermill": {
          "duration": 4.725982,
          "end_time": "2022-10-31T14:39:49.667593",
          "exception": false,
          "start_time": "2022-10-31T14:39:44.941611",
          "status": "completed"
        },
        "tags": [],
        "colab": {
          "base_uri": "https://localhost:8080/"
        },
        "id": "Qnu_zOZf40rl",
        "outputId": "c9f58a55-bd57-4fb4-f249-2faea7a994be"
      },
      "outputs": [
        {
          "output_type": "stream",
          "name": "stdout",
          "text": [
            "Downloading data from https://storage.googleapis.com/tensorflow/keras-applications/resnet/resnet50_weights_tf_dim_ordering_tf_kernels_notop.h5\n",
            "94765736/94765736 [==============================] - 1s 0us/step\n"
          ]
        }
      ],
      "source": [
        "resnet50_model = Sequential()\n",
        "\n",
        "pretrained_model= tf.keras.applications.ResNet50(include_top=False,\n",
        "                   input_shape=(32,32,3),\n",
        "                   pooling='avg',classes=2,\n",
        "                   weights= 'imagenet')\n",
        "for layer in pretrained_model.layers:\n",
        "        layer.trainable=False\n",
        "\n",
        "resnet50_model.add(pretrained_model)"
      ]
    },
    {
      "cell_type": "code",
      "execution_count": null,
      "metadata": {
        "execution": {
          "iopub.execute_input": "2022-10-31T14:39:54.518522Z",
          "iopub.status.busy": "2022-10-31T14:39:54.517534Z",
          "iopub.status.idle": "2022-10-31T14:39:54.536344Z",
          "shell.execute_reply": "2022-10-31T14:39:54.535896Z",
          "shell.execute_reply.started": "2022-10-31T13:45:03.598988Z"
        },
        "papermill": {
          "duration": 2.524419,
          "end_time": "2022-10-31T14:39:54.536479",
          "exception": false,
          "start_time": "2022-10-31T14:39:52.012060",
          "status": "completed"
        },
        "tags": [],
        "id": "IARtEac440rl"
      },
      "outputs": [],
      "source": [
        "resnet50_model.add(Flatten())\n",
        "resnet50_model.add(Dense(128, activation='relu'))\n",
        "resnet50_model.add(Dense(2, activation='softmax'))"
      ]
    },
    {
      "cell_type": "code",
      "execution_count": null,
      "metadata": {
        "execution": {
          "iopub.execute_input": "2022-10-31T14:39:59.244816Z",
          "iopub.status.busy": "2022-10-31T14:39:59.239708Z",
          "iopub.status.idle": "2022-10-31T14:39:59.250986Z",
          "shell.execute_reply": "2022-10-31T14:39:59.251511Z",
          "shell.execute_reply.started": "2022-10-31T13:45:06.211082Z"
        },
        "papermill": {
          "duration": 2.394806,
          "end_time": "2022-10-31T14:39:59.251718",
          "exception": false,
          "start_time": "2022-10-31T14:39:56.856912",
          "status": "completed"
        },
        "tags": [],
        "colab": {
          "base_uri": "https://localhost:8080/"
        },
        "id": "ngwrzBBB40rl",
        "outputId": "ccaf9468-ddb9-4377-ba5b-3ef38991c833"
      },
      "outputs": [
        {
          "output_type": "stream",
          "name": "stdout",
          "text": [
            "Model: \"sequential_1\"\n",
            "_________________________________________________________________\n",
            " Layer (type)                Output Shape              Param #   \n",
            "=================================================================\n",
            " resnet50 (Functional)       (None, 2048)              23587712  \n",
            "                                                                 \n",
            " flatten_1 (Flatten)         (None, 2048)              0         \n",
            "                                                                 \n",
            " dense_2 (Dense)             (None, 128)               262272    \n",
            "                                                                 \n",
            " dense_3 (Dense)             (None, 2)                 258       \n",
            "                                                                 \n",
            "=================================================================\n",
            "Total params: 23850242 (90.98 MB)\n",
            "Trainable params: 262530 (1.00 MB)\n",
            "Non-trainable params: 23587712 (89.98 MB)\n",
            "_________________________________________________________________\n"
          ]
        }
      ],
      "source": [
        "resnet50_model.summary()"
      ]
    },
    {
      "cell_type": "code",
      "execution_count": null,
      "metadata": {
        "execution": {
          "iopub.execute_input": "2022-10-31T14:40:03.995185Z",
          "iopub.status.busy": "2022-10-31T14:40:03.994323Z",
          "iopub.status.idle": "2022-10-31T14:53:52.891591Z",
          "shell.execute_reply": "2022-10-31T14:53:52.891124Z",
          "shell.execute_reply.started": "2022-10-31T13:45:06.505400Z"
        },
        "papermill": {
          "duration": 831.302499,
          "end_time": "2022-10-31T14:53:52.891771",
          "exception": false,
          "start_time": "2022-10-31T14:40:01.589272",
          "status": "completed"
        },
        "tags": [],
        "colab": {
          "base_uri": "https://localhost:8080/"
        },
        "id": "TIBWbXQi40rm",
        "outputId": "ee8434e1-44f7-4522-a014-a53ebf43d60f"
      },
      "outputs": [
        {
          "output_type": "stream",
          "name": "stdout",
          "text": [
            "Epoch 1/10\n",
            "2123/2123 [==============================] - 136s 63ms/step - loss: 0.1158 - categorical_accuracy: 0.9564 - precision_1: 0.9564 - recall_1: 0.9564 - val_loss: 0.3216 - val_categorical_accuracy: 0.8795 - val_precision_1: 0.8795 - val_recall_1: 0.8795\n",
            "Epoch 2/10\n",
            "2123/2123 [==============================] - 132s 62ms/step - loss: 0.0708 - categorical_accuracy: 0.9736 - precision_1: 0.9736 - recall_1: 0.9736 - val_loss: 0.4446 - val_categorical_accuracy: 0.8859 - val_precision_1: 0.8859 - val_recall_1: 0.8859\n",
            "Epoch 3/10\n",
            "2123/2123 [==============================] - 131s 62ms/step - loss: 0.0573 - categorical_accuracy: 0.9789 - precision_1: 0.9789 - recall_1: 0.9789 - val_loss: 0.4162 - val_categorical_accuracy: 0.8799 - val_precision_1: 0.8799 - val_recall_1: 0.8799\n",
            "Epoch 4/10\n",
            "2123/2123 [==============================] - 132s 62ms/step - loss: 0.0476 - categorical_accuracy: 0.9822 - precision_1: 0.9822 - recall_1: 0.9822 - val_loss: 0.4851 - val_categorical_accuracy: 0.8844 - val_precision_1: 0.8844 - val_recall_1: 0.8844\n",
            "Epoch 5/10\n",
            "2123/2123 [==============================] - 131s 62ms/step - loss: 0.0423 - categorical_accuracy: 0.9843 - precision_1: 0.9843 - recall_1: 0.9843 - val_loss: 0.4951 - val_categorical_accuracy: 0.8723 - val_precision_1: 0.8723 - val_recall_1: 0.8723\n",
            "Epoch 6/10\n",
            "2123/2123 [==============================] - 131s 62ms/step - loss: 0.0370 - categorical_accuracy: 0.9863 - precision_1: 0.9863 - recall_1: 0.9863 - val_loss: 0.5114 - val_categorical_accuracy: 0.8804 - val_precision_1: 0.8804 - val_recall_1: 0.8804\n",
            "Epoch 7/10\n",
            "2123/2123 [==============================] - 132s 62ms/step - loss: 0.0324 - categorical_accuracy: 0.9877 - precision_1: 0.9877 - recall_1: 0.9877 - val_loss: 0.5707 - val_categorical_accuracy: 0.8632 - val_precision_1: 0.8632 - val_recall_1: 0.8632\n",
            "Epoch 8/10\n",
            "2123/2123 [==============================] - 131s 62ms/step - loss: 0.0295 - categorical_accuracy: 0.9890 - precision_1: 0.9890 - recall_1: 0.9890 - val_loss: 0.5981 - val_categorical_accuracy: 0.8857 - val_precision_1: 0.8857 - val_recall_1: 0.8857\n",
            "Epoch 9/10\n",
            "2123/2123 [==============================] - 132s 62ms/step - loss: 0.0278 - categorical_accuracy: 0.9902 - precision_1: 0.9902 - recall_1: 0.9902 - val_loss: 0.7152 - val_categorical_accuracy: 0.8775 - val_precision_1: 0.8775 - val_recall_1: 0.8775\n",
            "Epoch 10/10\n",
            "2123/2123 [==============================] - 131s 62ms/step - loss: 0.0258 - categorical_accuracy: 0.9907 - precision_1: 0.9907 - recall_1: 0.9907 - val_loss: 0.8437 - val_categorical_accuracy: 0.8621 - val_precision_1: 0.8621 - val_recall_1: 0.8621\n"
          ]
        }
      ],
      "source": [
        "resnet50_model.compile(optimizer=Adam(learning_rate=0.001),loss='categorical_crossentropy',metrics=[tf.keras.metrics.CategoricalAccuracy(),tf.keras.metrics.Precision(), tf.keras.metrics.Recall()])\n",
        "history = resnet50_model.fit(train_generator, validation_data=validation_generator, epochs=10)"
      ]
    },
    {
      "cell_type": "code",
      "execution_count": null,
      "metadata": {
        "execution": {
          "iopub.execute_input": "2022-10-31T14:54:03.533634Z",
          "iopub.status.busy": "2022-10-31T14:54:03.526838Z",
          "iopub.status.idle": "2022-10-31T14:54:03.684230Z",
          "shell.execute_reply": "2022-10-31T14:54:03.684639Z",
          "shell.execute_reply.started": "2022-10-31T13:53:46.988990Z"
        },
        "papermill": {
          "duration": 5.315275,
          "end_time": "2022-10-31T14:54:03.684851",
          "exception": false,
          "start_time": "2022-10-31T14:53:58.369576",
          "status": "completed"
        },
        "tags": [],
        "colab": {
          "base_uri": "https://localhost:8080/",
          "height": 472
        },
        "id": "btAd2q2N40rn",
        "outputId": "b3bbdcf0-326a-402f-99b5-731918a66799"
      },
      "outputs": [
        {
          "output_type": "display_data",
          "data": {
            "text/plain": [
              "<Figure size 640x480 with 1 Axes>"
            ],
            "image/png": "[encoded data removed]"
          },
          "metadata": {}
        }
      ],
      "source": [
        "fig1 = plt.gcf()\n",
        "plt.plot(history.history['categorical_accuracy'])\n",
        "plt.plot(history.history['val_categorical_accuracy'])\n",
        "plt.axis(ymin=0.4,ymax=1)\n",
        "plt.grid()\n",
        "plt.title('Model Accuracy')\n",
        "plt.ylabel('Accuracy')\n",
        "plt.xlabel('Epochs')\n",
        "plt.legend(['train', 'validation'])\n",
        "plt.show()"
      ]
    },
    {
      "cell_type": "code",
      "execution_count": null,
      "metadata": {
        "execution": {
          "iopub.execute_input": "2022-10-31T14:54:14.732293Z",
          "iopub.status.busy": "2022-10-31T14:54:14.731442Z",
          "iopub.status.idle": "2022-10-31T14:54:15.104423Z",
          "shell.execute_reply": "2022-10-31T14:54:15.103467Z",
          "shell.execute_reply.started": "2022-10-31T13:53:19.651749Z"
        },
        "papermill": {
          "duration": 6.104609,
          "end_time": "2022-10-31T14:54:15.104571",
          "exception": false,
          "start_time": "2022-10-31T14:54:08.999962",
          "status": "completed"
        },
        "tags": [],
        "id": "ElWH-vml40ro"
      },
      "outputs": [],
      "source": [
        "resnet50_model.save(\"./resnet50.h5\")"
      ]
    },
    {
      "cell_type": "code",
      "execution_count": null,
      "metadata": {
        "execution": {
          "iopub.execute_input": "2022-10-31T14:54:25.651243Z",
          "iopub.status.busy": "2022-10-31T14:54:25.650625Z",
          "iopub.status.idle": "2022-10-31T14:54:27.417853Z",
          "shell.execute_reply": "2022-10-31T14:54:27.418912Z",
          "shell.execute_reply.started": "2022-10-31T13:55:01.050151Z"
        },
        "papermill": {
          "duration": 6.970102,
          "end_time": "2022-10-31T14:54:27.419122",
          "exception": false,
          "start_time": "2022-10-31T14:54:20.449020",
          "status": "completed"
        },
        "tags": [],
        "id": "S62Nec7p40rp"
      },
      "outputs": [],
      "source": [
        "resnet50_model_regularized = Sequential()\n",
        "\n",
        "pretrained_model= tf.keras.applications.ResNet50(include_top=False,\n",
        "                   input_shape=(32,32,3),\n",
        "                   pooling='avg',classes=2,\n",
        "                   weights= 'imagenet')\n",
        "for layer in pretrained_model.layers:\n",
        "        layer.trainable=False\n",
        "\n",
        "resnet50_model_regularized.add(pretrained_model)"
      ]
    },
    {
      "cell_type": "code",
      "execution_count": null,
      "metadata": {
        "execution": {
          "iopub.execute_input": "2022-10-31T14:54:37.885779Z",
          "iopub.status.busy": "2022-10-31T14:54:37.884893Z",
          "iopub.status.idle": "2022-10-31T14:54:37.905363Z",
          "shell.execute_reply": "2022-10-31T14:54:37.904895Z",
          "shell.execute_reply.started": "2022-10-31T13:55:03.012957Z"
        },
        "papermill": {
          "duration": 5.258552,
          "end_time": "2022-10-31T14:54:37.905505",
          "exception": false,
          "start_time": "2022-10-31T14:54:32.646953",
          "status": "completed"
        },
        "tags": [],
        "id": "kq9OB4W440rp"
      },
      "outputs": [],
      "source": [
        "resnet50_model_regularized.add(Flatten())\n",
        "resnet50_model_regularized.add(Dense(128, activation='relu'))\n",
        "resnet50_model_regularized.add(Dropout(0.5))\n",
        "resnet50_model_regularized.add(Dense(2, activation='softmax'))"
      ]
    },
    {
      "cell_type": "code",
      "execution_count": null,
      "metadata": {
        "execution": {
          "iopub.execute_input": "2022-10-31T14:54:49.099258Z",
          "iopub.status.busy": "2022-10-31T14:54:49.098408Z",
          "iopub.status.idle": "2022-10-31T15:08:57.522161Z",
          "shell.execute_reply": "2022-10-31T15:08:57.523097Z",
          "shell.execute_reply.started": "2022-10-31T13:55:04.725157Z"
        },
        "papermill": {
          "duration": 853.755507,
          "end_time": "2022-10-31T15:08:57.523310",
          "exception": false,
          "start_time": "2022-10-31T14:54:43.767803",
          "status": "completed"
        },
        "tags": [],
        "colab": {
          "base_uri": "https://localhost:8080/"
        },
        "id": "oQsK2WZ-40rq",
        "outputId": "51910bec-adc4-4eb9-ec4b-065067f948f7"
      },
      "outputs": [
        {
          "output_type": "stream",
          "name": "stdout",
          "text": [
            "Epoch 1/10\n",
            "2123/2123 [==============================] - 138s 64ms/step - loss: 0.2947 - categorical_accuracy: 0.9054 - precision_2: 0.9054 - recall_2: 0.9054 - val_loss: 0.3184 - val_categorical_accuracy: 0.8827 - val_precision_2: 0.8827 - val_recall_2: 0.8827\n",
            "Epoch 2/10\n",
            "2123/2123 [==============================] - 133s 63ms/step - loss: 0.2480 - categorical_accuracy: 0.9300 - precision_2: 0.9300 - recall_2: 0.9300 - val_loss: 0.3130 - val_categorical_accuracy: 0.9031 - val_precision_2: 0.9031 - val_recall_2: 0.9031\n",
            "Epoch 3/10\n",
            "2123/2123 [==============================] - 133s 63ms/step - loss: 0.2358 - categorical_accuracy: 0.9343 - precision_2: 0.9343 - recall_2: 0.9343 - val_loss: 0.3221 - val_categorical_accuracy: 0.9051 - val_precision_2: 0.9051 - val_recall_2: 0.9051\n",
            "Epoch 4/10\n",
            "2123/2123 [==============================] - 133s 63ms/step - loss: 0.2354 - categorical_accuracy: 0.9361 - precision_2: 0.9361 - recall_2: 0.9361 - val_loss: 0.4874 - val_categorical_accuracy: 0.8482 - val_precision_2: 0.8482 - val_recall_2: 0.8482\n",
            "Epoch 5/10\n",
            "2123/2123 [==============================] - 133s 62ms/step - loss: 0.2349 - categorical_accuracy: 0.9364 - precision_2: 0.9364 - recall_2: 0.9364 - val_loss: 0.3097 - val_categorical_accuracy: 0.8993 - val_precision_2: 0.8993 - val_recall_2: 0.8993\n",
            "Epoch 6/10\n",
            "2123/2123 [==============================] - 133s 63ms/step - loss: 0.2284 - categorical_accuracy: 0.9385 - precision_2: 0.9385 - recall_2: 0.9385 - val_loss: 0.2968 - val_categorical_accuracy: 0.9117 - val_precision_2: 0.9117 - val_recall_2: 0.9117\n",
            "Epoch 7/10\n",
            "2123/2123 [==============================] - 132s 62ms/step - loss: 0.2207 - categorical_accuracy: 0.9406 - precision_2: 0.9406 - recall_2: 0.9406 - val_loss: 0.2726 - val_categorical_accuracy: 0.9189 - val_precision_2: 0.9189 - val_recall_2: 0.9189\n",
            "Epoch 8/10\n",
            "2123/2123 [==============================] - 132s 62ms/step - loss: 0.2300 - categorical_accuracy: 0.9346 - precision_2: 0.9346 - recall_2: 0.9346 - val_loss: 0.2959 - val_categorical_accuracy: 0.9050 - val_precision_2: 0.9050 - val_recall_2: 0.9050\n",
            "Epoch 9/10\n",
            "2123/2123 [==============================] - 133s 63ms/step - loss: 0.2283 - categorical_accuracy: 0.9369 - precision_2: 0.9369 - recall_2: 0.9369 - val_loss: 0.3180 - val_categorical_accuracy: 0.8948 - val_precision_2: 0.8948 - val_recall_2: 0.8948\n",
            "Epoch 10/10\n",
            "2123/2123 [==============================] - 133s 62ms/step - loss: 0.2199 - categorical_accuracy: 0.9422 - precision_2: 0.9422 - recall_2: 0.9422 - val_loss: 0.3039 - val_categorical_accuracy: 0.9111 - val_precision_2: 0.9111 - val_recall_2: 0.9111\n"
          ]
        }
      ],
      "source": [
        "resnet50_model_regularized.compile(optimizer=Adam(learning_rate=0.001),loss='categorical_crossentropy',metrics=[tf.keras.metrics.CategoricalAccuracy(),tf.keras.metrics.Precision(), tf.keras.metrics.Recall()])\n",
        "history = resnet50_model_regularized.fit(train_generator, validation_data=validation_generator, epochs=10)"
      ]
    },
    {
      "cell_type": "code",
      "execution_count": null,
      "metadata": {
        "execution": {
          "iopub.execute_input": "2022-10-31T15:09:13.852588Z",
          "iopub.status.busy": "2022-10-31T15:09:13.851433Z",
          "iopub.status.idle": "2022-10-31T15:09:13.994102Z",
          "shell.execute_reply": "2022-10-31T15:09:13.994517Z",
          "shell.execute_reply.started": "2022-10-31T14:03:31.414990Z"
        },
        "papermill": {
          "duration": 8.350173,
          "end_time": "2022-10-31T15:09:13.994711",
          "exception": false,
          "start_time": "2022-10-31T15:09:05.644538",
          "status": "completed"
        },
        "tags": [],
        "colab": {
          "base_uri": "https://localhost:8080/",
          "height": 472
        },
        "id": "ubDpyRH640rq",
        "outputId": "cd03a752-2c90-4f6a-d62a-f92339c404e8"
      },
      "outputs": [
        {
          "output_type": "display_data",
          "data": {
            "text/plain": [
              "<Figure size 640x480 with 1 Axes>"
            ],
            "image/png": "[encoded data removed]"
          },
          "metadata": {}
        }
      ],
      "source": [
        "fig1 = plt.gcf()\n",
        "plt.plot(history.history['categorical_accuracy'])\n",
        "plt.plot(history.history['val_categorical_accuracy'])\n",
        "plt.axis(ymin=0.4,ymax=1)\n",
        "plt.grid()\n",
        "plt.title('Model Accuracy')\n",
        "plt.ylabel('Accuracy')\n",
        "plt.xlabel('Epochs')\n",
        "plt.legend(['train', 'validation'])\n",
        "plt.show()"
      ]
    },
    {
      "cell_type": "code",
      "execution_count": null,
      "metadata": {
        "execution": {
          "iopub.execute_input": "2022-10-31T15:09:30.513352Z",
          "iopub.status.busy": "2022-10-31T15:09:30.503706Z",
          "iopub.status.idle": "2022-10-31T15:09:30.844383Z",
          "shell.execute_reply": "2022-10-31T15:09:30.843894Z"
        },
        "papermill": {
          "duration": 8.432143,
          "end_time": "2022-10-31T15:09:30.844528",
          "exception": false,
          "start_time": "2022-10-31T15:09:22.412385",
          "status": "completed"
        },
        "tags": [],
        "id": "xNYPrzeI40rr"
      },
      "outputs": [],
      "source": [
        "resnet50_model_regularized.save(\"./resnet50_model_regularized.h5\")"
      ]
    },
    {
      "cell_type": "markdown",
      "metadata": {
        "papermill": {
          "duration": 8.594097,
          "end_time": "2022-10-31T15:09:47.650468",
          "exception": false,
          "start_time": "2022-10-31T15:09:39.056371",
          "status": "completed"
        },
        "tags": [],
        "id": "UmhHumhF40rr"
      },
      "source": [
        "<a href=\"./resnet50_model_regularized.h5\"> Download ResNet50 Regularized File </a>"
      ]
    },
    {
      "cell_type": "code",
      "execution_count": null,
      "metadata": {
        "execution": {
          "iopub.execute_input": "2022-11-01T16:47:32.804849Z",
          "iopub.status.busy": "2022-11-01T16:47:32.804474Z",
          "iopub.status.idle": "2022-11-01T16:47:34.527566Z",
          "shell.execute_reply": "2022-11-01T16:47:34.526801Z",
          "shell.execute_reply.started": "2022-11-01T16:47:32.804815Z"
        },
        "id": "mGr-eE2h40rt"
      },
      "outputs": [],
      "source": [
        "resnet50_fine_tune1 = Sequential()\n",
        "\n",
        "pretrained_model= tf.keras.applications.ResNet50(include_top=False,\n",
        "                   input_shape=(32,32,3),\n",
        "                   pooling='avg',classes=2,\n",
        "                   weights= 'imagenet')\n",
        "for layer in pretrained_model.layers:\n",
        "        layer.trainable=True\n",
        "\n",
        "resnet50_fine_tune1.add(pretrained_model)"
      ]
    },
    {
      "cell_type": "code",
      "execution_count": null,
      "metadata": {
        "execution": {
          "iopub.execute_input": "2022-11-01T16:47:37.337961Z",
          "iopub.status.busy": "2022-11-01T16:47:37.337578Z",
          "iopub.status.idle": "2022-11-01T16:47:37.365858Z",
          "shell.execute_reply": "2022-11-01T16:47:37.365064Z",
          "shell.execute_reply.started": "2022-11-01T16:47:37.337928Z"
        },
        "id": "Hq7fYxjk40rt"
      },
      "outputs": [],
      "source": [
        "resnet50_fine_tune1.add(Flatten())\n",
        "resnet50_fine_tune1.add(Dense(128, activation='relu'))\n",
        "resnet50_fine_tune1.add(Dropout(0.5))\n",
        "resnet50_fine_tune1.add(Dense(2, activation='softmax'))"
      ]
    },
    {
      "cell_type": "code",
      "execution_count": null,
      "metadata": {
        "execution": {
          "iopub.execute_input": "2022-11-01T16:47:40.241046Z",
          "iopub.status.busy": "2022-11-01T16:47:40.240687Z",
          "iopub.status.idle": "2022-11-01T17:02:12.572908Z",
          "shell.execute_reply": "2022-11-01T17:02:12.571894Z",
          "shell.execute_reply.started": "2022-11-01T16:47:40.241014Z"
        },
        "colab": {
          "base_uri": "https://localhost:8080/"
        },
        "id": "JYpBXlIP40ru",
        "outputId": "50a3d91d-adee-41d0-e2e2-5ecaaf6f0f5c"
      },
      "outputs": [
        {
          "output_type": "stream",
          "name": "stdout",
          "text": [
            "Epoch 1/10\n",
            "2123/2123 [==============================] - 437s 198ms/step - loss: 0.1793 - categorical_accuracy: 0.9449 - precision_3: 0.9449 - recall_3: 0.9449 - val_loss: 0.5898 - val_categorical_accuracy: 0.8143 - val_precision_3: 0.8143 - val_recall_3: 0.8143\n",
            "Epoch 2/10\n",
            "2123/2123 [==============================] - 420s 198ms/step - loss: 0.0825 - categorical_accuracy: 0.9729 - precision_3: 0.9729 - recall_3: 0.9729 - val_loss: 0.2411 - val_categorical_accuracy: 0.9078 - val_precision_3: 0.9078 - val_recall_3: 0.9078\n",
            "Epoch 3/10\n",
            "2123/2123 [==============================] - 420s 198ms/step - loss: 0.0924 - categorical_accuracy: 0.9701 - precision_3: 0.9701 - recall_3: 0.9701 - val_loss: 0.4261 - val_categorical_accuracy: 0.8616 - val_precision_3: 0.8616 - val_recall_3: 0.8616\n",
            "Epoch 4/10\n",
            "2123/2123 [==============================] - 420s 198ms/step - loss: 0.0973 - categorical_accuracy: 0.9663 - precision_3: 0.9663 - recall_3: 0.9663 - val_loss: 0.2116 - val_categorical_accuracy: 0.9135 - val_precision_3: 0.9135 - val_recall_3: 0.9135\n",
            "Epoch 5/10\n",
            "2123/2123 [==============================] - 420s 198ms/step - loss: 0.0833 - categorical_accuracy: 0.9720 - precision_3: 0.9720 - recall_3: 0.9720 - val_loss: 0.2089 - val_categorical_accuracy: 0.9247 - val_precision_3: 0.9247 - val_recall_3: 0.9247\n",
            "Epoch 6/10\n",
            "2123/2123 [==============================] - 420s 198ms/step - loss: 0.0569 - categorical_accuracy: 0.9804 - precision_3: 0.9804 - recall_3: 0.9804 - val_loss: 0.3685 - val_categorical_accuracy: 0.8700 - val_precision_3: 0.8700 - val_recall_3: 0.8700\n",
            "Epoch 7/10\n",
            "2123/2123 [==============================] - 420s 198ms/step - loss: 0.0509 - categorical_accuracy: 0.9843 - precision_3: 0.9843 - recall_3: 0.9843 - val_loss: 0.5442 - val_categorical_accuracy: 0.8520 - val_precision_3: 0.8520 - val_recall_3: 0.8520\n",
            "Epoch 8/10\n",
            "2123/2123 [==============================] - 419s 197ms/step - loss: 0.0506 - categorical_accuracy: 0.9840 - precision_3: 0.9840 - recall_3: 0.9840 - val_loss: 0.3350 - val_categorical_accuracy: 0.8748 - val_precision_3: 0.8748 - val_recall_3: 0.8748\n",
            "Epoch 9/10\n",
            "2123/2123 [==============================] - 419s 198ms/step - loss: 0.0479 - categorical_accuracy: 0.9847 - precision_3: 0.9847 - recall_3: 0.9847 - val_loss: 0.3789 - val_categorical_accuracy: 0.8767 - val_precision_3: 0.8767 - val_recall_3: 0.8767\n",
            "Epoch 10/10\n",
            "2123/2123 [==============================] - 419s 197ms/step - loss: 0.0388 - categorical_accuracy: 0.9869 - precision_3: 0.9869 - recall_3: 0.9869 - val_loss: 0.3223 - val_categorical_accuracy: 0.8935 - val_precision_3: 0.8935 - val_recall_3: 0.8935\n"
          ]
        }
      ],
      "source": [
        "resnet50_fine_tune1.compile(optimizer=Adam(learning_rate=0.001),loss='categorical_crossentropy',metrics=[tf.keras.metrics.CategoricalAccuracy(),tf.keras.metrics.Precision(), tf.keras.metrics.Recall()])\n",
        "history = resnet50_fine_tune1.fit(train_generator, validation_data=validation_generator, epochs=10)"
      ]
    },
    {
      "cell_type": "code",
      "execution_count": null,
      "metadata": {
        "execution": {
          "iopub.execute_input": "2022-11-01T17:02:59.137436Z",
          "iopub.status.busy": "2022-11-01T17:02:59.137099Z",
          "iopub.status.idle": "2022-11-01T17:02:59.303265Z",
          "shell.execute_reply": "2022-11-01T17:02:59.302376Z",
          "shell.execute_reply.started": "2022-11-01T17:02:59.137406Z"
        },
        "colab": {
          "base_uri": "https://localhost:8080/",
          "height": 472
        },
        "id": "3YAmyoSe40ru",
        "outputId": "1537b906-eb59-4c61-fb41-76ba84720fd0"
      },
      "outputs": [
        {
          "output_type": "display_data",
          "data": {
            "text/plain": [
              "<Figure size 640x480 with 1 Axes>"
            ],
            "image/png": "[encoded data removed]"
          },
          "metadata": {}
        }
      ],
      "source": [
        "fig1 = plt.gcf()\n",
        "plt.plot(history.history['categorical_accuracy'])\n",
        "plt.plot(history.history['val_categorical_accuracy'])\n",
        "plt.axis(ymin=0.4,ymax=1)\n",
        "plt.grid()\n",
        "plt.title('Model Accuracy')\n",
        "plt.ylabel('Accuracy')\n",
        "plt.xlabel('Epochs')\n",
        "plt.legend(['train', 'validation'])\n",
        "plt.show()"
      ]
    },
    {
      "cell_type": "code",
      "execution_count": null,
      "metadata": {
        "execution": {
          "iopub.execute_input": "2022-11-01T16:45:28.592241Z",
          "iopub.status.busy": "2022-11-01T16:45:28.591865Z",
          "iopub.status.idle": "2022-11-01T16:45:29.501533Z",
          "shell.execute_reply": "2022-11-01T16:45:29.500594Z",
          "shell.execute_reply.started": "2022-11-01T16:45:28.592211Z"
        },
        "colab": {
          "base_uri": "https://localhost:8080/"
        },
        "id": "TI02iFl840ru",
        "outputId": "60a73afc-13a4-4bdd-c302-eeb6e1b8a9e2"
      },
      "outputs": [
        {
          "output_type": "stream",
          "name": "stderr",
          "text": [
            "/usr/local/lib/python3.10/dist-packages/keras/src/engine/training.py:3103: UserWarning: You are saving your model as an HDF5 file via `model.save()`. This file format is considered legacy. We recommend using instead the native Keras format, e.g. `model.save('my_model.keras')`.\n",
            "  saving_api.save_model(\n"
          ]
        }
      ],
      "source": [
        "resnet50_fine_tune1.save(\"./resnet50_fine_tune.h5\")"
      ]
    },
    {
      "cell_type": "markdown",
      "metadata": {
        "papermill": {
          "duration": 8.237156,
          "end_time": "2022-10-31T15:10:03.914608",
          "exception": false,
          "start_time": "2022-10-31T15:09:55.677452",
          "status": "completed"
        },
        "tags": [],
        "id": "ku1Rx7mv40ru"
      },
      "source": [
        "<a href=\"./resnet50.h5\"> Download ResNet50 File </a>"
      ]
    },
    {
      "cell_type": "markdown",
      "metadata": {
        "papermill": {
          "duration": 11.532022,
          "end_time": "2022-10-31T15:26:35.913998",
          "exception": false,
          "start_time": "2022-10-31T15:26:24.381976",
          "status": "completed"
        },
        "tags": [],
        "id": "1221Z7Rw40ru"
      },
      "source": [
        "<a href=\"./resnet50_fine_tune.h5\"> Download fine_tune ResNet50 File </a>"
      ]
    }
  ],
  "metadata": {
    "kernelspec": {
      "display_name": "Python 3",
      "name": "python3"
    },
    "language_info": {
      "codemirror_mode": {
        "name": "ipython",
        "version": 3
      },
      "file_extension": ".py",
      "mimetype": "text/x-python",
      "name": "python",
      "nbconvert_exporter": "python",
      "pygments_lexer": "ipython3",
      "version": "3.9.13"
    },
    "papermill": {
      "default_parameters": {},
      "duration": 3934.750294,
      "end_time": "2022-10-31T15:26:50.628009",
      "environment_variables": {},
      "exception": null,
      "input_path": "__notebook__.ipynb",
      "output_path": "__notebook__.ipynb",
      "parameters": {},
      "start_time": "2022-10-31T14:21:15.877715",
      "version": "2.2.2"
    },
    "colab": {
      "provenance": [],
      "gpuType": "V28"
    },
    "accelerator": "TPU"
  },
  "nbformat": 4,
  "nbformat_minor": 0
}